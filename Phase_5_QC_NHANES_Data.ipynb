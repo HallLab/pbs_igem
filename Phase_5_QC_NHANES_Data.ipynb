{
 "cells": [
  {
   "cell_type": "markdown",
   "metadata": {},
   "source": [
    "# Phase 5: QC NHANES Data\n",
    "\n",
    "Documentation: https://halllab.atlassian.net/wiki/spaces/IGEM/pages/79233025/Phase+5+QC+NHANES+Data"
   ]
  },
  {
   "cell_type": "code",
   "execution_count": 1,
   "metadata": {},
   "outputs": [
    {
     "name": "stdout",
     "output_type": "stream",
     "text": [
      "rpy2 ModuleSpec(name='rpy2', loader=<_frozen_importlib_external.SourceFileLoader object at 0x317d61ed0>, origin='/Users/andrerico/Works/Projects/pbs_igem/.venv/lib/python3.10/site-packages/rpy2/__init__.py', submodule_search_locations=['/Users/andrerico/Works/Projects/pbs_igem/.venv/lib/python3.10/site-packages/rpy2'])\n"
     ]
    }
   ],
   "source": [
    "# Importing the necessary libraries\n",
    "import pandas as pd\n",
    "import numpy as np\n",
    "from functools import reduce\n",
    "from pathlib import Path\n",
    "import matplotlib.pyplot as plt\n",
    "import igem"
   ]
  },
  {
   "cell_type": "code",
   "execution_count": 2,
   "metadata": {},
   "outputs": [],
   "source": [
    "# Defining the path to the data folder\n",
    "path = Path().resolve()\n",
    "path_data = path / \"data\""
   ]
  },
  {
   "cell_type": "code",
   "execution_count": 3,
   "metadata": {},
   "outputs": [
    {
     "name": "stdout",
     "output_type": "stream",
     "text": [
      "Loaded 101,316 observations of 917 variables\n",
      "Start QC Process with: 101316 records\n",
      "Fields to run QC: 1140 records\n"
     ]
    },
    {
     "name": "stderr",
     "output_type": "stream",
     "text": [
      "/Users/andrerico/Works/Projects/pbs_igem/.venv/lib/python3.10/site-packages/igem/epc/clarite/load/load.py:77: DtypeWarning: Columns (442,869) have mixed types.Specify dtype option on import or set low_memory=False.\n",
      "  return clarite.load.from_csv(filename, index_col, **kwargs)\n"
     ]
    }
   ],
   "source": [
    "# Reading the NHANES data with normalized medications\n",
    "df_nhanes = igem.epc.load.from_csv(\n",
    "    str(path_data) + \"/step_04_02_nhanes_data_with_medications.csv\"\n",
    "    )\n",
    "# print(f\"Start QC Process with: {len(df_nhanes)} records\")\n",
    "\n",
    "# Reading the fields to run the QC\n",
    "ls_fields = pd.read_csv(\n",
    "    (str(path_data) + \"/step_02_07_Fields.csv\"),\n",
    "    )['field_name'].tolist()\n",
    "\n",
    "# add the normalized medication fields\n",
    "ls_fields.extend(['ID', 'Cycle', 'LBDLDL_N', 'LBXTC_N'])\n",
    "print(f\"Fields to run QC: {len(ls_fields)} records\")"
   ]
  },
  {
   "cell_type": "markdown",
   "metadata": {},
   "source": [
    "#### STEP 05_00: Columns Check"
   ]
  },
  {
   "cell_type": "code",
   "execution_count": 4,
   "metadata": {},
   "outputs": [],
   "source": [
    "# Syncing the fields to the NHANES data\n",
    "existing_fields = [field for field in ls_fields if field in df_nhanes.columns]\n",
    "df_nhanes = df_nhanes[existing_fields]\n",
    "\n",
    "# Droping the rows with missing values\n",
    "df_nhanes = df_nhanes.dropna(axis=1, how='all')\n",
    "\n",
    "# Droping duplicated columns\n",
    "df_nhanes = df_nhanes.loc[:, ~df_nhanes.columns.duplicated()]"
   ]
  },
  {
   "cell_type": "markdown",
   "metadata": {},
   "source": [
    "### STEP 05_01: Filter Target Samples"
   ]
  },
  {
   "cell_type": "code",
   "execution_count": 5,
   "metadata": {},
   "outputs": [
    {
     "name": "stdout",
     "output_type": "stream",
     "text": [
      "< 18: 42112\n",
      ">= 18: 59204\n",
      "Total: 101316\n"
     ]
    }
   ],
   "source": [
    "# Slip data into two groups (age < 18 and age >= 18)\n",
    "# Many records do not have age information, so we will drop them (sequence > 0)\n",
    "df_nhanes_lt = df_nhanes.loc[df_nhanes[\"RIDAGEYR\"] < 18]\n",
    "df_nhanes_gt = df_nhanes.loc[df_nhanes[\"RIDAGEYR\"] >= 18]\n",
    "\n",
    "print(f'< 18: {len(df_nhanes_lt)}')\n",
    "print(f'>= 18: {len(df_nhanes_gt)}')\n",
    "print(f'Total: {len(df_nhanes_lt)+len(df_nhanes_gt)}')"
   ]
  },
  {
   "cell_type": "code",
   "execution_count": 6,
   "metadata": {},
   "outputs": [
    {
     "name": "stdout",
     "output_type": "stream",
     "text": [
      "After drop NA in all Cofounders: 55206 records\n"
     ]
    }
   ],
   "source": [
    "# Drop rows with missing values in the cofounders\n",
    "columns_to_check = ['RIDAGEYR', 'RIAGENDR', 'RIDRETH1', 'BMXBMI']\n",
    "df_nhanes_gt = df_nhanes_gt.dropna(subset=columns_to_check)\n",
    "print(f\"After drop NA in all Cofounders: {len(df_nhanes_gt)} records\")"
   ]
  },
  {
   "cell_type": "markdown",
   "metadata": {},
   "source": [
    "### STEP 05_02: Categorize Fields"
   ]
  },
  {
   "cell_type": "code",
   "execution_count": 7,
   "metadata": {},
   "outputs": [
    {
     "name": "stdout",
     "output_type": "stream",
     "text": [
      "================================================================================\n",
      "Running categorize\n",
      "--------------------------------------------------------------------------------\n",
      "96 of 834 variables (11.51%) are classified as constant (1 unique value).\n",
      "199 of 834 variables (23.86%) are classified as binary (2 unique values).\n",
      "106 of 834 variables (12.71%) are classified as categorical (3 to 6 unique values).\n",
      "342 of 834 variables (41.01%) are classified as continuous (>= 15 unique values).\n",
      "58 of 834 variables (6.95%) were dropped.\n",
      "\t58 variables had zero unique values (all NA).\n",
      "33 of 834 variables (3.96%) were not categorized and need to be set manually.\n",
      "\t30 variables had between 6 and 15 unique values\n",
      "\t3 variables had >= 15 values but couldn't be converted to continuous (numeric) values\n",
      "================================================================================\n"
     ]
    }
   ],
   "source": [
    "# # Categories the columns types\n",
    "df_nhanes_gt = igem.epc.modify.categorize(df_nhanes_gt)"
   ]
  },
  {
   "cell_type": "code",
   "execution_count": 8,
   "metadata": {},
   "outputs": [
    {
     "name": "stdout",
     "output_type": "stream",
     "text": [
      "Number of object columns:  33 \n",
      "\n",
      "The list of object columns: \n",
      "Index(['SMD100BR', 'SMQ143', 'SMQ078', 'SMQ621', 'SMQ660', 'SSDCP', 'LBXV1D',\n",
      "       'LBXV2T', 'DBD195', 'DBQ197', 'DBD235A', 'DBD235AE', 'DBD235B',\n",
      "       'DBD235C', 'DBD235CE', 'CBQ050', 'CBQ800', 'LBXBFOA', 'GTDSCMMN',\n",
      "       'LBX10AL', 'URXPTU', 'LBDBGESI', 'SLD010H', 'SLQ300', 'SLQ320',\n",
      "       'DSQTCAFF', 'DUQ272', 'DUQ352', 'SMQ750', 'ALQ142', 'SMD780', 'URXMET',\n",
      "       'Cycle'],\n",
      "      dtype='object') \n",
      "\n",
      "One file was create with the Object columns: \n",
      "/Users/andrerico/Works/Projects/pbs_igem/data/step_05_01_Object_Columns.csv\n"
     ]
    }
   ],
   "source": [
    "# Information about the columns not categorized and need to be set manually\n",
    "ls_object_columns = df_nhanes_gt.select_dtypes(include=['object']).columns\n",
    "print(\n",
    "    f\"Number of object columns:  {len(ls_object_columns)} \\n\" \n",
    ")\n",
    "\n",
    "print(\"The list of object columns: \")\n",
    "print(f\"{ls_object_columns} \\n\")\n",
    "\n",
    "df_nhanes_gt.select_dtypes(include=['object']).to_csv(str(path_data) + '/step_05_01_Object_Columns.csv')\n",
    "print(f\"One file was create with the Object columns: \")\n",
    "print(f\"{str(path_data) + '/step_05_01_Object_Columns.csv'}\")"
   ]
  },
  {
   "cell_type": "code",
   "execution_count": 9,
   "metadata": {},
   "outputs": [
    {
     "name": "stdout",
     "output_type": "stream",
     "text": [
      "================================================================================\n",
      "Running make_categorical\n",
      "--------------------------------------------------------------------------------\n",
      "Set 20 of 776 variable(s) as categorical, each with 55,206 observations\n",
      "================================================================================\n",
      "================================================================================\n",
      "Running make_continuous\n",
      "--------------------------------------------------------------------------------\n",
      "Set 9 of 776 variable(s) as continuous, each with 55,206 observations\n",
      "================================================================================\n",
      "================================================================================\n",
      "Running colfilter\n",
      "--------------------------------------------------------------------------------\n",
      "\u001b[33mWARNING: 3 variables need to be categorized into a type manually\u001b[0m\n",
      "Keeping 773 of 776 variables:\n",
      "\t199 of 199 binary variables\n",
      "\t127 of 127 categorical variables\n",
      "\t351 of 351 continuous variables\n",
      "\t0 of 3 unknown variables\n",
      "================================================================================\n"
     ]
    }
   ],
   "source": [
    "# Set the cycle column to a categorical variable and order it\n",
    "cycle_order = [\n",
    "    '1999-2000',\n",
    "    '2001-2002',\n",
    "    '2003-2004',\n",
    "    '2005-2006',\n",
    "    '2007-2008',\n",
    "    '2009-2010',\n",
    "    '2011-2012',\n",
    "    '2013-2014',\n",
    "    '2015-2016',\n",
    "    '2017-2018'\n",
    "]\n",
    "df_nhanes_gt['Cycle'] = pd.Categorical(df_nhanes_gt['Cycle'], categories=cycle_order, ordered=True)\n",
    "\n",
    "# Manuaklly set the columns to the correct type\n",
    "df_nhanes_gt = igem.epc.modify.make_categorical(\n",
    "    df_nhanes_gt,\n",
    "    only=['SMQ143','SMQ078','SMQ621','SMQ660','DBD195','DBQ197','DBD235A','DBD235AE','DBD235B','DBD235C','DBD235CE','CBQ050','CBQ800','GTDSCMMN','SLD010H','DUQ272','DUQ352','SMQ750','ALQ142','SMD780'])\n",
    "\n",
    "df_nhanes_gt = igem.epc.modify.make_continuous(\n",
    "    df_nhanes_gt,\n",
    "    only=['SSDCP','LBXV1D','LBXV2T','LBXBFOA','LBX10AL','URXPTU','LBDBGESI','DSQTCAFF','URXMET']\n",
    "    )\n",
    "\n",
    "# Text fields that will be dropped\n",
    "df_nhanes_gt = igem.epc.modify.colfilter(\n",
    "    df_nhanes_gt,\n",
    "    skip=['SLQ300', 'SLQ320', 'SMD100BR'])"
   ]
  },
  {
   "cell_type": "code",
   "execution_count": 10,
   "metadata": {},
   "outputs": [
    {
     "name": "stdout",
     "output_type": "stream",
     "text": [
      "Number of object columns:  0 \n",
      "\n",
      "55,206 observations of 773 variables\n",
      "\t199 Binary Variables\n",
      "\t127 Categorical Variables\n",
      "\t351 Continuous Variables\n",
      "\t0 Unknown-Type Variables\n",
      "\n"
     ]
    }
   ],
   "source": [
    "# check if exist any Object Data Type\n",
    "ls_object_columns = df_nhanes_gt.select_dtypes(include=['object']).columns\n",
    "print(\n",
    "    f\"Number of object columns:  {len(ls_object_columns)} \\n\" \n",
    ")\n",
    "\n",
    "igem.epc.describe.summarize(df_nhanes_gt)"
   ]
  },
  {
   "cell_type": "markdown",
   "metadata": {},
   "source": [
    "### STEP 05_03: Phenotypes and Exposures QC"
   ]
  },
  {
   "cell_type": "markdown",
   "metadata": {},
   "source": [
    "STEP 05_03_01"
   ]
  },
  {
   "cell_type": "code",
   "execution_count": 11,
   "metadata": {},
   "outputs": [],
   "source": [
    "# Define the groups\n",
    "#  Outcomes = Phenotypes\n",
    "#  Covariants = Cofounders\n",
    "#  Variants = Exposures\n",
    "# TODO: Set this list in a parameter file\n",
    "list_covariats = ['RIDAGEYR', 'RIAGENDR', 'RIDRETH1', 'BMXBMI', 'Cycle']\n",
    "list_outcomes_wo_adj = ['LBDLDL', 'LBXTC']\n",
    "list_outcomes = ['LBDLDL_N', 'LBXTC_N', 'LBXSTR', 'LBDHDL', 'LBXHDD', 'LBDHDD']\n",
    "\n",
    "# Define the list of exposes\n",
    "excluded_columns = set(list_covariats + list_outcomes + list_outcomes_wo_adj)\n",
    "list_variants = [col for col in df_nhanes_gt.columns if col not in excluded_columns]"
   ]
  },
  {
   "cell_type": "markdown",
   "metadata": {},
   "source": [
    "### STEP 05_04: Define Functions"
   ]
  },
  {
   "cell_type": "markdown",
   "metadata": {},
   "source": [
    "STEP 05_04_01"
   ]
  },
  {
   "cell_type": "code",
   "execution_count": 13,
   "metadata": {},
   "outputs": [],
   "source": [
    "def sync_columns (df1, df2):\n",
    "    # Syncs for replication and discovery datasets to have the same columns\n",
    "    # get the common columns\n",
    "    common_columns = df1.columns.intersection(df2.columns)\n",
    "\n",
    "    # filter both DataFrames to keep only the common columns\n",
    "    df1 = df1[common_columns]\n",
    "    df2 = df2[common_columns]\n",
    "\n",
    "    # check if both groups as the same number of columns\n",
    "    n_df1 = len(df1.columns)\n",
    "    n_df2 = len(df2.columns)\n",
    "\n",
    "    if n_df1 != n_df2:\n",
    "        # Raise an error if the number of columns is different\n",
    "        print(f\"---> DF1 has {n_df1} columns and DF2 has {n_df2} columns\")\n",
    "        print(\"---> Columns in DF1 but not in DF2:\")\n",
    "        print(set(df1.columns) - set(df2.columns))\n",
    "        print(\"---> Columns in DF2 but not in DF1:\")\n",
    "        print(set(df2.columns) - set(df1.columns))\n",
    "        return False, df1, df2\n",
    "    \n",
    "    print(f\"---> {n_df1} columns and {len(df1)} rows on DF1 dataset\")\n",
    "    print(f\"---> {n_df2} columns and {len(df2)} rows on DF2 dataset\")\n",
    "    \n",
    "    return True, df1, df2"
   ]
  },
  {
   "cell_type": "markdown",
   "metadata": {},
   "source": [
    "STEP 05_04_02"
   ]
  },
  {
   "cell_type": "code",
   "execution_count": 15,
   "metadata": {},
   "outputs": [],
   "source": [
    "class ColumnSyncError(Exception):\n",
    "    pass\n",
    "\n",
    "# Function to split datasets\n",
    "def split_datasets(\n",
    "        df,\n",
    "        outcome,\n",
    "        list_covariats,\n",
    "        list_variants,\n",
    "        split_col='Cycle',\n",
    "        split_value='2007-2008',\n",
    "        random_split=False,\n",
    "        discovery_percent=0.7\n",
    "        ):\n",
    "\n",
    "    try:\n",
    "        # Filter the DataFrames to keep only the columns of interest\n",
    "        df = df[[outcome] + list_covariats + list_variants].dropna(subset=[outcome])\n",
    "\n",
    "        if random_split:\n",
    "            # Random split based on the specified discovery percentage\n",
    "            df = df.sample(frac=1, random_state=42)  # Shuffle the DataFrame\n",
    "            # df = df.sample(frac=1, random_state=42).reset_index(drop=True)  # Shuffle the DataFrame\n",
    "            discovery_size = int(discovery_percent * len(df))\n",
    "            \n",
    "            df_discovery = df[:discovery_size]\n",
    "            df_replication = df[discovery_size:]\n",
    "        else:\n",
    "            # Split based on the split_value in split_col\n",
    "            df_discovery = df[df[split_col] <= split_value]\n",
    "            df_replication = df[df[split_col] > split_value]\n",
    "\n",
    "        # Drop columns with all NaN values in both DataFrames\n",
    "        df_discovery = df_discovery.dropna(axis=1, how='all')\n",
    "        df_replication = df_replication.dropna(axis=1, how='all')\n",
    "\n",
    "        # Syncs for replication and discovery datasets to have the same columns\n",
    "        check_integrid, df_discovery, df_replication = sync_columns(\n",
    "            df_discovery,\n",
    "            df_replication\n",
    "        )\n",
    "\n",
    "        if check_integrid:\n",
    "            return df_discovery, df_replication\n",
    "        else:\n",
    "            raise ColumnSyncError(\"Column synchronization failed between discovery and replication datasets.\")\n",
    "    \n",
    "    except Exception as e:\n",
    "        print(f\"Error: {e}\")\n",
    "        return None, None"
   ]
  },
  {
   "cell_type": "markdown",
   "metadata": {},
   "source": [
    "STEP 05_04_03"
   ]
  },
  {
   "cell_type": "code",
   "execution_count": 16,
   "metadata": {},
   "outputs": [],
   "source": [
    "# QC to Outcome Function\n",
    "def outcome_qc(df, outcome, group, plot=True):\n",
    "    df = df[[outcome]]\n",
    "\n",
    "    # Remove phenotypes with more than 90% missing values\n",
    "    df = igem.epc.modify.colfilter_percent_zero(df, filter_percent=90)\n",
    "\n",
    "    # Get skew value\n",
    "    skew_value = igem.epc.describe.skewness(\n",
    "        df,\n",
    "        dropna='True'\n",
    "        ).loc[0, 'skew']\n",
    "    \n",
    "    # Log transform all phenotypes since the skewness values are greater than abs(0.5)\n",
    "    if abs(skew_value) > 0.5:\n",
    "        df_log = igem.epc.modify.transform(df, 'log')\n",
    "        # Run skewness again after log transf\n",
    "        skew_value_log = igem.epc.describe.skewness(\n",
    "            df_log,\n",
    "            dropna='True'\n",
    "            ).loc[0, 'skew']\n",
    "        \n",
    "        if plot:\n",
    "            # # Plot the outcome distribution\n",
    "            fig, axes = plt.subplots(1, 2, figsize=(14, 6), sharey=True)\n",
    "            \n",
    "            # Plot original data\n",
    "            axes[0].hist(df[outcome].dropna(), bins=100, color='blue', alpha=0.7)\n",
    "            axes[0].set_title(f\"{group}: Skew to {outcome} = {skew_value:.6f}\")\n",
    "            axes[0].set_xlabel(outcome)\n",
    "            axes[0].set_ylabel('Frequency')\n",
    "\n",
    "            # Plot log-transformed data\n",
    "            axes[1].hist(df_log[outcome].dropna(), bins=100, color='green', alpha=0.7)\n",
    "            axes[1].set_title(f\"{group}: Skew to {outcome} after log transf = {skew_value_log:.6f}\")\n",
    "            axes[1].set_xlabel(outcome)\n",
    "            \n",
    "            plt.tight_layout()\n",
    "            plt.show()\n",
    "        \n",
    "        return df_log\n",
    "\n",
    "    else:\n",
    "        return df\n",
    "    \n",
    "    "
   ]
  },
  {
   "cell_type": "markdown",
   "metadata": {},
   "source": [
    "STEP 05_04_04"
   ]
  },
  {
   "cell_type": "code",
   "execution_count": 17,
   "metadata": {},
   "outputs": [],
   "source": [
    "# QC to Variant Function\n",
    "def variant_qc(df, list_variants):\n",
    "    # Filtering the variant columns that exist in the discovery DataFrame\n",
    "    existing_variants = [var for var in list_variants if var in df.columns]\n",
    "    df_variants = df[existing_variants]\n",
    "\n",
    "    # Separate categorical and continuous variables\n",
    "    objecy_columns = df_variants.select_dtypes(include=['object']).columns\n",
    "    categorical_columns = df_variants.select_dtypes(include=['category']).columns\n",
    "    continuous_columns = df_variants.select_dtypes(include=['number']).columns\n",
    "    # print(f\"---> Number of object columns:  {len(objecy_columns)}\")\n",
    "    # print(f\"---> Number of categorical columns:  {len(categorical_columns)}\")\n",
    "    # print(f\"---> Number of continuous columns:  {len(continuous_columns)}\")\n",
    "\n",
    "\n",
    "    ### QC in Categorical Exposures\n",
    "    # Separate categorical and continuous variables\n",
    "    df_categorical = df_variants[categorical_columns]\n",
    "    df_continuous = df_variants[continuous_columns]\n",
    "\n",
    "\n",
    "    # Apply colfilter_min_n to categorical columns\n",
    "    df_categorical = igem.epc.modify.colfilter_min_n(df_categorical, n=200)\n",
    "    # Apply cat filter and colfilter_min_cat_n to categorical columns\n",
    "    df_categorical = igem.epc.modify.colfilter_min_cat_n(df_categorical, n=10)\n",
    "\n",
    "    # # Summary QC in Categorical Exposures\n",
    "    # print(f\"Started process with {len(categorical_columns)} columns\\n\")\n",
    "    # print(f\"After QC:\")\n",
    "    # igem.epc.describe.summarize(df_categorical) \n",
    "    \n",
    "    #  TODO: to comment or descomment a blok of line (cmd + /)\n",
    "\n",
    "\n",
    "    ### QC in Continuous Exposures\n",
    "    df_continuous = igem.epc.modify.colfilter_percent_zero(df_continuous, filter_percent=90)\n",
    "    df_continuous = igem.epc.modify.colfilter_min_n(df_continuous, n=200)\n",
    "\n",
    "    # # Summary QC in Continuous Exposures\n",
    "    # print(f\"Started process with {len(continuous_columns)} columns\\n\")\n",
    "    # print(f\"After QC:\")\n",
    "    # igem.epc.describe.summarize(df_continuous)\n",
    "    \n",
    "\n",
    "    # Combine filtered categorical and continuous columns\n",
    "    df_variants = pd.concat([df_categorical, df_continuous], axis=1)\n",
    "    igem.epc.describe.summarize(df_variants)\n",
    "\n",
    "\n",
    "    return df_variants"
   ]
  },
  {
   "cell_type": "markdown",
   "metadata": {},
   "source": [
    "STEP 05_04_05"
   ]
  },
  {
   "cell_type": "code",
   "execution_count": 18,
   "metadata": {},
   "outputs": [],
   "source": [
    "# Merge functions\n",
    "def merge_dfs(left, right):\n",
    "    return left.merge(right, on='ID', how='left')"
   ]
  },
  {
   "cell_type": "markdown",
   "metadata": {},
   "source": [
    "### STEP 05_05: PROCESS QC by Phenotype"
   ]
  },
  {
   "cell_type": "code",
   "execution_count": 20,
   "metadata": {},
   "outputs": [
    {
     "name": "stdout",
     "output_type": "stream",
     "text": [
      "Start QC to LBXTC_N\n",
      "\n",
      "\n",
      "----- Start Split the Datasets to LBXTC_N ------\n",
      "---> 274 columns and 24836 rows on DF1 dataset\n",
      "---> 274 columns and 27023 rows on DF2 dataset\n",
      "\n",
      "\n",
      "----- Start Outcome QC to LBXTC_N ------\n",
      "QC to Discovery Outcome Dataset\n",
      "================================================================================\n",
      "Running colfilter_percent_zero\n",
      "--------------------------------------------------------------------------------\n",
      "Testing 1 of 1 continuous variables\n",
      "\tRemoved 0 (0.00%) tested continuous variables which were equal to zero in at least 90.00% of non-NA observations.\n",
      "================================================================================\n",
      "================================================================================\n",
      "Running transform\n",
      "--------------------------------------------------------------------------------\n",
      "Transformed 'LBXTC_N' using 'log'\n",
      "================================================================================\n"
     ]
    },
    {
     "data": {
      "image/png": "[encoded data removed]",
      "text/plain": [
       "<Figure size 1400x600 with 2 Axes>"
      ]
     },
     "metadata": {},
     "output_type": "display_data"
    },
    {
     "name": "stdout",
     "output_type": "stream",
     "text": [
      "QC to Replicate Outcome Dataset\n",
      "================================================================================\n",
      "Running colfilter_percent_zero\n",
      "--------------------------------------------------------------------------------\n",
      "Testing 1 of 1 continuous variables\n",
      "\tRemoved 0 (0.00%) tested continuous variables which were equal to zero in at least 90.00% of non-NA observations.\n",
      "================================================================================\n",
      "================================================================================\n",
      "Running transform\n",
      "--------------------------------------------------------------------------------\n",
      "Transformed 'LBXTC_N' using 'log'\n",
      "================================================================================\n"
     ]
    },
    {
     "data": {
      "image/png": "[encoded data removed]",
      "text/plain": [
       "<Figure size 1400x600 with 2 Axes>"
      ]
     },
     "metadata": {},
     "output_type": "display_data"
    },
    {
     "name": "stdout",
     "output_type": "stream",
     "text": [
      "\n",
      "\n",
      "----- Start Variants QC to LBXTC_N ------\n",
      "QC to Discovery Variants Dataset\n",
      "================================================================================\n",
      "Running colfilter_min_cat_n\n",
      "--------------------------------------------------------------------------------\n",
      "Testing 72 of 72 binary variables\n",
      "\tRemoved 40 (55.56%) tested binary variables which had a category with less than 100 values.\n",
      "Testing 61 of 61 categorical variables\n",
      "\tRemoved 60 (98.36%) tested categorical variables which had a category with less than 100 values.\n",
      "================================================================================\n",
      "================================================================================\n",
      "Running colfilter_min_n\n",
      "--------------------------------------------------------------------------------\n",
      "Testing 32 of 32 binary variables\n",
      "\tRemoved 0 (0.00%) tested binary variables which had less than 200 non-null values.\n",
      "Testing 1 of 1 categorical variables\n",
      "\tRemoved 0 (0.00%) tested categorical variables which had less than 200 non-null values.\n",
      "Testing 0 of 0 continuous variables\n",
      "================================================================================\n",
      "================================================================================\n",
      "Running colfilter_percent_zero\n",
      "--------------------------------------------------------------------------------\n",
      "Testing 111 of 111 continuous variables\n",
      "\tRemoved 0 (0.00%) tested continuous variables which were equal to zero in at least 90.00% of non-NA observations.\n",
      "================================================================================\n",
      "24,836 observations of 168 variables\n",
      "\t32 Binary Variables\n",
      "\t1 Categorical Variables\n",
      "\t111 Continuous Variables\n",
      "\t0 Unknown-Type Variables\n",
      "\n",
      "QC to Replicate Variants Dataset\n",
      "================================================================================\n",
      "Running colfilter_min_cat_n\n",
      "--------------------------------------------------------------------------------\n",
      "Testing 72 of 72 binary variables\n",
      "\tRemoved 37 (51.39%) tested binary variables which had a category with less than 100 values.\n",
      "Testing 61 of 61 categorical variables\n",
      "\tRemoved 59 (96.72%) tested categorical variables which had a category with less than 100 values.\n",
      "================================================================================\n",
      "================================================================================\n",
      "Running colfilter_min_n\n",
      "--------------------------------------------------------------------------------\n",
      "Testing 35 of 35 binary variables\n",
      "\tRemoved 0 (0.00%) tested binary variables which had less than 200 non-null values.\n",
      "Testing 2 of 2 categorical variables\n",
      "\tRemoved 0 (0.00%) tested categorical variables which had less than 200 non-null values.\n",
      "Testing 0 of 0 continuous variables\n",
      "================================================================================\n",
      "================================================================================\n",
      "Running colfilter_percent_zero\n",
      "--------------------------------------------------------------------------------\n",
      "Testing 111 of 111 continuous variables\n",
      "\tRemoved 0 (0.00%) tested continuous variables which were equal to zero in at least 90.00% of non-NA observations.\n",
      "================================================================================\n",
      "27,023 observations of 172 variables\n",
      "\t35 Binary Variables\n",
      "\t2 Categorical Variables\n",
      "\t111 Continuous Variables\n",
      "\t0 Unknown-Type Variables\n",
      "\n",
      "---> 162 columns and 24836 rows on DF1 dataset\n",
      "---> 162 columns and 27023 rows on DF2 dataset\n",
      "End QC to LBXTC_N\n",
      "================================================================================\n",
      "Running make_categorical\n",
      "--------------------------------------------------------------------------------\n",
      "Set 1 of 169 variable(s) as categorical, each with 51,859 observations\n",
      "================================================================================\n",
      "QC Data saved in /Users/andrerico/Works/Projects/pbs_igem/data/step_05_05/QC_NHANES_LBXTC_N.pkl\n",
      "\n",
      "\n"
     ]
    }
   ],
   "source": [
    "# Loop to process each Outcome\n",
    "results = []\n",
    "list_outcomes = ['LBXTC_N',] # DEBUG ONLY/\n",
    "\n",
    "for outcome in list_outcomes:\n",
    "\n",
    "    print(f\"Start QC to {outcome}\")\n",
    "\n",
    "    # Split Datasets - Discovery and Replication\n",
    "    # -------------------------------------------------------------------------\n",
    "    print(\"\\n\")\n",
    "    print(f\"----- Start Split the Datasets to {outcome} ------\")\n",
    "    \n",
    "    if outcome in ['LBDLDL_N', 'LBXTC_N', 'LBXSTR']:\n",
    "        df_discovery, df_replication = split_datasets(\n",
    "            df_nhanes_gt,\n",
    "            outcome,\n",
    "            list_covariats,\n",
    "            list_variants,\n",
    "            split_col='Cycle',\n",
    "            split_value='2007-2008' # this cicle will keep in the discovery dataset\n",
    "            )\n",
    "    elif outcome in ['LBDHDL']:\n",
    "        df_discovery, df_replication = split_datasets(\n",
    "            df_nhanes_gt,\n",
    "            outcome,\n",
    "            list_covariats,\n",
    "            list_variants,\n",
    "            split_col='Cycle',\n",
    "            split_value='1999-2000'\n",
    "            )\n",
    "    elif outcome in ['LBDHDD']:\n",
    "        df_discovery, df_replication = split_datasets(\n",
    "            df_nhanes_gt,\n",
    "            outcome,\n",
    "            list_covariats,\n",
    "            list_variants,\n",
    "            split_col='Cycle',\n",
    "            split_value='2011-2012'\n",
    "            )\n",
    "    # LBXHDD will be split randomly (has just one cycle)\n",
    "    elif outcome in ['LBXHDD']:\n",
    "        df_discovery, df_replication = split_datasets(\n",
    "            df_nhanes_gt,\n",
    "            outcome,\n",
    "            list_covariats,\n",
    "            list_variants,\n",
    "            random_split=True,\n",
    "            discovery_percent=0.7\n",
    "            )\n",
    "    \n",
    "    # Raise error if got split problems\n",
    "    if df_discovery is None or df_replication is None:\n",
    "        print(f\"Failed to split datasets for outcome: {outcome}\")\n",
    "        continue\n",
    "\n",
    "\n",
    "    # Apply the Outcome QC\n",
    "    # -------------------------------------------------------------------------\n",
    "    print(\"\\n\")\n",
    "    print(f\"----- Start Outcome QC to {outcome} ------\")\n",
    "    # df_outcome_discovery = df_discovery[[outcome]]\n",
    "    # df_outcome_replication = df_replication[[outcome]]\n",
    "    print(f\"QC to Discovery Outcome Dataset\")\n",
    "    df_outcome_discovery = outcome_qc(\n",
    "        df_discovery,\n",
    "        outcome,\n",
    "        group='discovery',\n",
    "        plot=True\n",
    "        )\n",
    "    print(f\"QC to Replicate Outcome Dataset\")\n",
    "    df_outcome_replication = outcome_qc(\n",
    "        df_replication,\n",
    "        outcome,\n",
    "        group='replication',\n",
    "        plot=True\n",
    "        )\n",
    "\n",
    "    # Check Outcome QC Results\n",
    "    if df_outcome_discovery is None or df_outcome_replication is None:\n",
    "        print(f\"outcome {outcome} removed due to high missing values.\")\n",
    "        continue\n",
    "\n",
    "\n",
    "    ### Apply the Exposure QC\n",
    "    # -------------------------------------------------------------------------\n",
    "    # \n",
    "    print(\"\\n\")\n",
    "    print(f\"----- Start Variants QC to {outcome} ------\")\n",
    "    print(f\"QC to Discovery Variants Dataset\")\n",
    "    df_variants_discovery = variant_qc(\n",
    "        df_discovery,\n",
    "        list_variants,\n",
    "        )\n",
    "    print(f\"QC to Replicate Variants Dataset\")\n",
    "    df_variants_replication = variant_qc(\n",
    "        df_replication,\n",
    "        list_variants,\n",
    "        )\n",
    "    \n",
    "    check_integrid, df_variants_discovery, df_variants_replication = sync_columns(\n",
    "        df_variants_discovery,\n",
    "        df_variants_replication\n",
    "        )\n",
    "\n",
    "\n",
    "\n",
    "    if not check_integrid:\n",
    "        raise ColumnSyncError(\"Column synchronization in variants failed between discovery and replication datasets.\")\n",
    "\n",
    "    print(f\"End QC to {outcome}\")\n",
    "\n",
    "    # Apply the Covariants QC\n",
    "    # -------------------------------------------------------------------------\n",
    "    df_covariants_discovery = df_discovery[list_covariats]\n",
    "    df_covariants_replication = df_replication[list_covariats]\n",
    "\n",
    "\n",
    "    # Aggregation QC data\n",
    "    # -------------------------------------------------------------------------\n",
    "    \n",
    "    # Merge Discovery Data\n",
    "    dfs_to_merge = [\n",
    "        df_outcome_discovery,\n",
    "        df_covariants_discovery,\n",
    "        df_variants_discovery\n",
    "        ]\n",
    "    df_qc_discovery = reduce(merge_dfs, dfs_to_merge)\n",
    "\n",
    "    # Merge Replication Data\n",
    "    dfs_to_merge_replication = [\n",
    "        df_outcome_replication,\n",
    "        df_covariants_replication,\n",
    "        df_variants_replication\n",
    "        ]\n",
    "    df_qc_replication = reduce(merge_dfs, dfs_to_merge_replication)\n",
    "\n",
    "    # Add group column\n",
    "    df_qc_discovery['group'] = 'discovery'\n",
    "    df_qc_replication['group'] = 'replication'\n",
    "\n",
    "    # Concat discovery and replication dataframes\n",
    "    df_combined = pd.concat([df_qc_discovery, df_qc_replication])\n",
    "    df_combined = igem.epc.modify.make_categorical(df_combined, only=[\"group\",])\n",
    "    \n",
    "    # Check if any columns is Object\n",
    "    # Information about the columns not categorized and need to be set manually\n",
    "    ls_object_columns = df_combined.select_dtypes(include=['object']).columns\n",
    "    if len(ls_object_columns) != 0:\n",
    "        print(\n",
    "            f\"Number of object columns:  {len(ls_object_columns)} \\n\" \n",
    "            )\n",
    "        print(\"The list of object columns: \")\n",
    "        print(f\"{ls_object_columns} \\n\")\n",
    "        igem.epc.describe.summarize(df_combined)\n",
    "        print(\" --- Solve this before save the data ---\")\n",
    "    else:\n",
    "        # Save as Parquet to keep the data types\n",
    "        file_name = str(path_data) + \"/step_05_05/QC_NHANES_\" + outcome + \".pkl\"\n",
    "        df_combined.to_pickle(file_name)\n",
    "        print(f\"QC Data saved in {file_name}\\n\\n\")"
   ]
  },
  {
   "cell_type": "markdown",
   "metadata": {},
   "source": [
    "-----------------------"
   ]
  },
  {
   "cell_type": "markdown",
   "metadata": {},
   "source": [
    "# DEBUG"
   ]
  },
  {
   "cell_type": "code",
   "execution_count": 19,
   "metadata": {},
   "outputs": [],
   "source": [
    "results = []\n",
    "outcome = 'LBXTC_N'"
   ]
  },
  {
   "cell_type": "markdown",
   "metadata": {},
   "source": [
    "Split Discovery and Replicate Datasets"
   ]
  },
  {
   "cell_type": "code",
   "execution_count": 20,
   "metadata": {},
   "outputs": [
    {
     "name": "stdout",
     "output_type": "stream",
     "text": [
      "---> 274 columns and 24836 rows on DF1 dataset\n",
      "---> 274 columns and 27023 rows on DF2 dataset\n"
     ]
    }
   ],
   "source": [
    "df_discovery, df_replication = split_datasets(\n",
    "        df_nhanes_gt,\n",
    "        outcome,\n",
    "        list_covariats,\n",
    "        list_variants,\n",
    "        split_col='Cycle',\n",
    "        split_value='2007-2008'\n",
    ")\n",
    "if df_discovery is None or df_replication is None:\n",
    "    print(f\"Failed to split datasets for outcome: {outcome}\")\n",
    "    raise ValueError(\"Failed to split datasets for outcome: {outcome}\")"
   ]
  },
  {
   "cell_type": "markdown",
   "metadata": {},
   "source": [
    "QC to the Phenotype"
   ]
  },
  {
   "cell_type": "code",
   "execution_count": 21,
   "metadata": {},
   "outputs": [],
   "source": [
    "df_outcome_discovery = df_discovery[[outcome]]\n",
    "df_outcome_replication = df_replication[[outcome]]"
   ]
  },
  {
   "cell_type": "code",
   "execution_count": 22,
   "metadata": {},
   "outputs": [
    {
     "name": "stdout",
     "output_type": "stream",
     "text": [
      "================================================================================\n",
      "Running colfilter_percent_zero\n",
      "--------------------------------------------------------------------------------\n",
      "Testing 1 of 1 continuous variables\n",
      "\tRemoved 0 (0.00%) tested continuous variables which were equal to zero in at least 90.00% of non-NA observations.\n",
      "================================================================================\n"
     ]
    }
   ],
   "source": [
    "df = igem.epc.modify.colfilter_percent_zero(df_outcome_discovery, filter_percent=90)"
   ]
  },
  {
   "cell_type": "code",
   "execution_count": 23,
   "metadata": {},
   "outputs": [
    {
     "name": "stdout",
     "output_type": "stream",
     "text": [
      "The skew ratio is: 0.9532952387225929\n"
     ]
    }
   ],
   "source": [
    "skew_value = igem.epc.describe.skewness(\n",
    "    df,\n",
    "    dropna='True'\n",
    "    ).loc[0, 'skew']\n",
    "print(f'The skew ratio is: {skew_value}')"
   ]
  },
  {
   "cell_type": "code",
   "execution_count": 24,
   "metadata": {},
   "outputs": [
    {
     "name": "stdout",
     "output_type": "stream",
     "text": [
      "================================================================================\n",
      "Running transform\n",
      "--------------------------------------------------------------------------------\n",
      "Transformed 'LBXTC_N' using 'log'\n",
      "================================================================================\n"
     ]
    }
   ],
   "source": [
    "if abs(skew_value) > 0.5:\n",
    "    group = 'discovery'\n",
    "    df_log = igem.epc.modify.transform(df, 'log')\n",
    "    \n",
    "    # Run skewness again after log transf\n",
    "    skew_value_log = igem.epc.describe.skewness(\n",
    "        df_log,\n",
    "        dropna='True'\n",
    "    ).loc[0, 'skew']\n",
    "    "
   ]
  },
  {
   "cell_type": "code",
   "execution_count": 62,
   "metadata": {},
   "outputs": [],
   "source": [
    "df_outcome = df_log"
   ]
  },
  {
   "cell_type": "markdown",
   "metadata": {},
   "source": [
    "QC to the Exposures"
   ]
  },
  {
   "cell_type": "code",
   "execution_count": 26,
   "metadata": {},
   "outputs": [],
   "source": [
    "group = 'discovery'\n",
    "plot=False\n",
    "n_min=200\n",
    "df = df_discovery"
   ]
  },
  {
   "cell_type": "code",
   "execution_count": 27,
   "metadata": {},
   "outputs": [
    {
     "name": "stdout",
     "output_type": "stream",
     "text": [
      "268\n"
     ]
    }
   ],
   "source": [
    "# Filtering the variant columns that exist in the discovery DataFrame\n",
    "existing_variants = [var for var in list_variants if var in df.columns]\n",
    "df_variants = df[existing_variants]\n",
    "print(len(df_variants.columns))"
   ]
  },
  {
   "cell_type": "code",
   "execution_count": 49,
   "metadata": {},
   "outputs": [
    {
     "name": "stdout",
     "output_type": "stream",
     "text": [
      "---> Number of object columns:  0\n",
      "---> Number of categorical columns:  157\n",
      "---> Number of continuous columns:  111\n"
     ]
    }
   ],
   "source": [
    "# Count the number of object columns\n",
    "objecy_columns = df_variants.select_dtypes(include=['object']).columns\n",
    "categorical_columns = df_variants.select_dtypes(include=['category']).columns\n",
    "continuous_columns = df_variants.select_dtypes(include=['number']).columns\n",
    "print(f\"---> Number of object columns:  {len(objecy_columns)}\")\n",
    "print(f\"---> Number of categorical columns:  {len(categorical_columns)}\")\n",
    "print(f\"---> Number of continuous columns:  {len(continuous_columns)}\")"
   ]
  },
  {
   "cell_type": "code",
   "execution_count": 50,
   "metadata": {},
   "outputs": [
    {
     "name": "stdout",
     "output_type": "stream",
     "text": [
      "---> Number of categorical columns:  157\n",
      "---> Number of continuous columns:  111\n"
     ]
    }
   ],
   "source": [
    "# Separate categorical and continuous variables\n",
    "df_categorical = df_variants[categorical_columns]\n",
    "df_continuou = df_variants[continuous_columns]\n",
    "print(f\"---> Number of categorical columns:  {len(df_categorical.columns)}\")\n",
    "print(f\"---> Number of continuous columns:  {len(df_continuou.columns)}\")"
   ]
  },
  {
   "cell_type": "code",
   "execution_count": 51,
   "metadata": {},
   "outputs": [
    {
     "name": "stdout",
     "output_type": "stream",
     "text": [
      "24,836 observations of 157 variables\n",
      "\t72 Binary Variables\n",
      "\t61 Categorical Variables\n",
      "\t0 Continuous Variables\n",
      "\t0 Unknown-Type Variables\n",
      "\n"
     ]
    }
   ],
   "source": [
    "# the diff 157 - 133 (72 Bin + 61 Cat) = 24 are constants columns\n",
    "igem.epc.describe.summarize(df_categorical)"
   ]
  },
  {
   "cell_type": "markdown",
   "metadata": {},
   "source": [
    "QC To Categorical Exposures"
   ]
  },
  {
   "cell_type": "code",
   "execution_count": 52,
   "metadata": {},
   "outputs": [
    {
     "name": "stdout",
     "output_type": "stream",
     "text": [
      "================================================================================\n",
      "Running colfilter_min_cat_n\n",
      "--------------------------------------------------------------------------------\n",
      "Testing 72 of 72 binary variables\n",
      "\tRemoved 40 (55.56%) tested binary variables which had a category with less than 100 values.\n",
      "Testing 61 of 61 categorical variables\n",
      "\tRemoved 60 (98.36%) tested categorical variables which had a category with less than 100 values.\n",
      "================================================================================\n"
     ]
    },
    {
     "data": {
      "text/plain": [
       "'\\nFor Instance, the field SMQ020 was dropped\\n1 - 10,855\\n2 - 11,692\\n3 - 3\\n9 - 18\\nBlank - 2,268\\n'"
      ]
     },
     "execution_count": 52,
     "metadata": {},
     "output_type": "execute_result"
    }
   ],
   "source": [
    "df_categorical = igem.epc.modify.colfilter_min_cat_n(df_categorical, n=100)\n",
    "\"\"\"\n",
    "For Instance, the field SMQ020 was dropped\n",
    "1 - 10,855\n",
    "2 - 11,692\n",
    "3 - 3\n",
    "9 - 18\n",
    "Blank - 2,268\n",
    "\"\"\""
   ]
  },
  {
   "cell_type": "code",
   "execution_count": 53,
   "metadata": {},
   "outputs": [
    {
     "name": "stdout",
     "output_type": "stream",
     "text": [
      "================================================================================\n",
      "Running colfilter_min_n\n",
      "--------------------------------------------------------------------------------\n",
      "Testing 32 of 32 binary variables\n",
      "\tRemoved 0 (0.00%) tested binary variables which had less than 200 non-null values.\n",
      "Testing 1 of 1 categorical variables\n",
      "\tRemoved 0 (0.00%) tested categorical variables which had less than 200 non-null values.\n",
      "Testing 0 of 0 continuous variables\n",
      "================================================================================\n"
     ]
    }
   ],
   "source": [
    "df_categorical = igem.epc.modify.colfilter_min_n(df_categorical, n=200)"
   ]
  },
  {
   "cell_type": "code",
   "execution_count": 54,
   "metadata": {},
   "outputs": [
    {
     "name": "stdout",
     "output_type": "stream",
     "text": [
      "Started process with 157 columns\n",
      "\n",
      "After QC:\n",
      "24,836 observations of 57 variables\n",
      "\t32 Binary Variables\n",
      "\t1 Categorical Variables\n",
      "\t0 Continuous Variables\n",
      "\t0 Unknown-Type Variables\n",
      "\n"
     ]
    }
   ],
   "source": [
    "# Summary QC in Categorical Exposures\n",
    "print(f\"Started process with {len(categorical_columns)} columns\\n\")\n",
    "print(f\"After QC:\")\n",
    "igem.epc.describe.summarize(df_categorical)"
   ]
  },
  {
   "cell_type": "markdown",
   "metadata": {},
   "source": [
    "QC to Continuous Exposures"
   ]
  },
  {
   "cell_type": "code",
   "execution_count": 57,
   "metadata": {},
   "outputs": [
    {
     "name": "stdout",
     "output_type": "stream",
     "text": [
      "================================================================================\n",
      "Running colfilter_percent_zero\n",
      "--------------------------------------------------------------------------------\n",
      "Testing 111 of 111 continuous variables\n",
      "\tRemoved 0 (0.00%) tested continuous variables which were equal to zero in at least 90.00% of non-NA observations.\n",
      "================================================================================\n"
     ]
    }
   ],
   "source": [
    "df_continuous = igem.epc.modify.colfilter_percent_zero(df_continuou, filter_percent=90)"
   ]
  },
  {
   "cell_type": "code",
   "execution_count": 58,
   "metadata": {},
   "outputs": [
    {
     "name": "stdout",
     "output_type": "stream",
     "text": [
      "Started process with 111 columns\n",
      "\n",
      "After QC:\n",
      "24,836 observations of 111 variables\n",
      "\t0 Binary Variables\n",
      "\t0 Categorical Variables\n",
      "\t111 Continuous Variables\n",
      "\t0 Unknown-Type Variables\n",
      "\n"
     ]
    }
   ],
   "source": [
    "# Summary QC in Continuous Exposures\n",
    "print(f\"Started process with {len(continuous_columns)} columns\\n\")\n",
    "print(f\"After QC:\")\n",
    "igem.epc.describe.summarize(df_continuou)"
   ]
  },
  {
   "cell_type": "markdown",
   "metadata": {},
   "source": [
    "Merge QC Exposures Datasets"
   ]
  },
  {
   "cell_type": "code",
   "execution_count": 59,
   "metadata": {},
   "outputs": [
    {
     "name": "stdout",
     "output_type": "stream",
     "text": [
      "24,836 observations of 168 variables\n",
      "\t32 Binary Variables\n",
      "\t1 Categorical Variables\n",
      "\t111 Continuous Variables\n",
      "\t0 Unknown-Type Variables\n",
      "\n"
     ]
    }
   ],
   "source": [
    "# Combine filtered categorical and continuous columns\n",
    "df_variants = pd.concat([df_categorical, df_continuous], axis=1)\n",
    "igem.epc.describe.summarize(df_variants)"
   ]
  },
  {
   "cell_type": "markdown",
   "metadata": {},
   "source": [
    "QC to Covariantes"
   ]
  },
  {
   "cell_type": "code",
   "execution_count": 61,
   "metadata": {},
   "outputs": [
    {
     "name": "stdout",
     "output_type": "stream",
     "text": [
      "24,836 observations of 5 variables\n",
      "\t1 Binary Variables\n",
      "\t2 Categorical Variables\n",
      "\t2 Continuous Variables\n",
      "\t0 Unknown-Type Variables\n",
      "\n"
     ]
    }
   ],
   "source": [
    "df_covariants = df_discovery[list_covariats]\n",
    "igem.epc.describe.summarize(df_covariants)"
   ]
  },
  {
   "cell_type": "markdown",
   "metadata": {},
   "source": [
    "Merge all QC Data"
   ]
  },
  {
   "cell_type": "code",
   "execution_count": 68,
   "metadata": {},
   "outputs": [
    {
     "name": "stdout",
     "output_type": "stream",
     "text": [
      "24,836 observations of 174 variables\n",
      "\t33 Binary Variables\n",
      "\t3 Categorical Variables\n",
      "\t114 Continuous Variables\n",
      "\t0 Unknown-Type Variables\n",
      "\n"
     ]
    }
   ],
   "source": [
    "# Create list of QC dataframes\n",
    "dfs_to_merge = [\n",
    "    df_outcome,\n",
    "    df_covariants,\n",
    "    df_variants\n",
    "    ]\n",
    "df_qc = reduce(merge_dfs, dfs_to_merge)\n",
    "igem.epc.describe.summarize(df_qc)"
   ]
  },
  {
   "cell_type": "code",
   "execution_count": 69,
   "metadata": {},
   "outputs": [
    {
     "name": "stdout",
     "output_type": "stream",
     "text": [
      "================================================================================\n",
      "Running make_categorical\n",
      "--------------------------------------------------------------------------------\n",
      "Set 1 of 175 variable(s) as categorical, each with 24,836 observations\n",
      "================================================================================\n"
     ]
    }
   ],
   "source": [
    "# Add group column\n",
    "df_qc['group'] = 'discovery'\n",
    "df_qc = igem.epc.modify.make_categorical(df_qc, only=[\"group\",])"
   ]
  }
 ],
 "metadata": {
  "kernelspec": {
   "display_name": ".venv",
   "language": "python",
   "name": "python3"
  },
  "language_info": {
   "codemirror_mode": {
    "name": "ipython",
    "version": 3
   },
   "file_extension": ".py",
   "mimetype": "text/x-python",
   "name": "python",
   "nbconvert_exporter": "python",
   "pygments_lexer": "ipython3",
   "version": "3.10.3"
  }
 },
 "nbformat": 4,
 "nbformat_minor": 2
}
