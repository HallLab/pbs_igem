{
 "cells": [
  {
   "cell_type": "markdown",
   "metadata": {},
   "source": [
    "<h2>Phase 2: Creating the Interaction Pairs</h2>"
   ]
  },
  {
   "cell_type": "markdown",
   "metadata": {},
   "source": [
    "After successfully loading all data from the 1999 to 2018 NHANES cycles into the MyNHANES system, we progress to the next phase which involves compiling a comprehensive list of fields related to exposure factors. We will utilize the detailed descriptions of these NHANES fields to operate the IGEM Search Engine, facilitating the retrieval of relevant TERMS and enabling thorough consultation of the existing relationships within our knowledge base."
   ]
  },
  {
   "cell_type": "markdown",
   "metadata": {},
   "source": [
    "- STEP 00_00 - Extract Fields List from MyNHANES\n",
    "- STEP 01_00 - Search IGEM Terms from NHANES Fields Description\n",
    "- STEP 01_01 - Identify Exposure Factor Fields\n",
    "- STEP 01_02 - Generate Parameters File to setting the filter to GE.db database\n",
    "- STEP 01_03 - Obtaining the Terms of Relationship\n",
    "- STEP 01_04 - Filter Interactions\n",
    "- STEP 01_05 - Link the IGEM Terms to NHANES Field ID\n",
    "- STEP 01_06 - Isolate the Unique Fields\n",
    "- STEP 02_00 - Select query in MyNhanes"
   ]
  },
  {
   "cell_type": "code",
   "execution_count": 1,
   "metadata": {},
   "outputs": [],
   "source": [
    "import pandas as pd\n",
    "from pathlib import Path\n",
    "import glob\n",
    "import os"
   ]
  },
  {
   "cell_type": "code",
   "execution_count": 2,
   "metadata": {},
   "outputs": [],
   "source": [
    "path = Path().resolve()\n",
    "path_data = path / 'data'"
   ]
  },
  {
   "cell_type": "code",
   "execution_count": 5,
   "metadata": {},
   "outputs": [
    {
     "data": {
      "text/plain": [
       "'\\nAdd commands to MyNHANES and IGEM\\n'"
      ]
     },
     "execution_count": 5,
     "metadata": {},
     "output_type": "execute_result"
    }
   ],
   "source": [
    "\"\"\"\n",
    "Add commands to MyNHANES and IGEM\n",
    "\"\"\""
   ]
  },
  {
   "cell_type": "code",
   "execution_count": 3,
   "metadata": {},
   "outputs": [],
   "source": [
    "df_terms = pd.read_csv(\n",
    "    str(path_data) + \"/step_01_03_TermsRelationship.csv\"\n",
    "    )\n",
    "ls_terms = pd.read_excel(\n",
    "    (str(path_data) + \"/step_01_01_Exposes_Identification.xlsx\"),\n",
    "    sheet_name=\"Exposes_Terms_Uniques\",\n",
    "    header=None,\n",
    "    names=['term']\n",
    "    )['term'].tolist()"
   ]
  },
  {
   "cell_type": "code",
   "execution_count": 22,
   "metadata": {},
   "outputs": [
    {
     "name": "stderr",
     "output_type": "stream",
     "text": [
      "/var/folders/06/f05rc_9x21nfs2142bf0fmcr0000gn/T/ipykernel_47655/826482400.py:2: SettingWithCopyWarning: \n",
      "A value is trying to be set on a copy of a slice from a DataFrame\n",
      "\n",
      "See the caveats in the documentation: https://pandas.pydata.org/pandas-docs/stable/user_guide/indexing.html#returning-a-view-versus-a-copy\n",
      "  df_terms_filtered.drop(\n",
      "/var/folders/06/f05rc_9x21nfs2142bf0fmcr0000gn/T/ipykernel_47655/826482400.py:7: SettingWithCopyWarning: \n",
      "A value is trying to be set on a copy of a slice from a DataFrame\n",
      "\n",
      "See the caveats in the documentation: https://pandas.pydata.org/pandas-docs/stable/user_guide/indexing.html#returning-a-view-versus-a-copy\n",
      "  df_terms_filtered.drop_duplicates(inplace=True)\n"
     ]
    }
   ],
   "source": [
    "df_terms_filtered = df_terms[\n",
    "    df_terms['term_1'].isin(ls_terms) & df_terms['term_2'].isin(ls_terms)\n",
    "    ]\n",
    "df_terms_filtered.drop(\n",
    "    columns=[\n",
    "        'datasource',\n",
    "        'connector',\n",
    "        'qtd_links'\n",
    "        ],\n",
    "    inplace=True\n",
    "    )\n",
    "\n",
    "df_terms_filtered.drop_duplicates(inplace=True)\n",
    "\n",
    "df_terms_filtered.to_csv(\n",
    "    str(path_data) + \"/step_01_04_TermsRelationship_filtered.csv\",\n",
    "    index=False\n",
    ")"
   ]
  },
  {
   "cell_type": "markdown",
   "metadata": {},
   "source": [
    "<h4>STEP 01_05 - Link the IGEM Terms to NHANES Field ID</h4>"
   ]
  },
  {
   "cell_type": "code",
   "execution_count": 5,
   "metadata": {},
   "outputs": [],
   "source": [
    "df_NHAMES_fields = pd.read_excel(\n",
    "    str(path_data) + \"/step_00_00_MyNHANES_fields_list.xlsx\",\n",
    "    sheet_name=\"fields_unique\"\n",
    "    )\n",
    "df_NHANES_terms = pd.read_csv(\n",
    "    str(path_data) + \"/step_01_00_word_to_term.csv\"\n",
    "    )"
   ]
  },
  {
   "cell_type": "code",
   "execution_count": 19,
   "metadata": {},
   "outputs": [],
   "source": [
    "# Normalizando os campos de string para comparação\n",
    "df_NHAMES_fields['field_description'] = df_NHAMES_fields['field_description'].str.lower().str.strip()\n",
    "df_NHANES_terms['string'] = df_NHANES_terms['string'].str.lower().str.strip()\n",
    "\n",
    "# Concatenando os DataFrames com base na coluna 'string' de df_NHANES_terms e 'field_description' de df_NHANES_fields\n",
    "df_NHANES_fields_terms = pd.merge(df_NHANES_terms, df_NHAMES_fields, left_on='string', right_on='field_description', how='left')"
   ]
  },
  {
   "cell_type": "code",
   "execution_count": 21,
   "metadata": {},
   "outputs": [],
   "source": [
    "# Eliminando as colunas 'datasource', 'connector' e 'qtd_links'\n",
    "df_NHANES_fields_terms.drop(columns=['row', 'string', 'word', 'term_id', 'term_descr', 'qtd_terms', 'qtd_loops', 'time'], inplace=True)\n",
    "# Eliminando registros duplicados\n",
    "df_NHANES_fields_terms.drop_duplicates(inplace=True)\n",
    "df_NHANES_fields_terms.dropna(subset=['term'], inplace=True)"
   ]
  },
  {
   "cell_type": "code",
   "execution_count": 22,
   "metadata": {},
   "outputs": [
    {
     "data": {
      "text/html": [
       "<div>\n",
       "<style scoped>\n",
       "    .dataframe tbody tr th:only-of-type {\n",
       "        vertical-align: middle;\n",
       "    }\n",
       "\n",
       "    .dataframe tbody tr th {\n",
       "        vertical-align: top;\n",
       "    }\n",
       "\n",
       "    .dataframe thead th {\n",
       "        text-align: right;\n",
       "    }\n",
       "</style>\n",
       "<table border=\"1\" class=\"dataframe\">\n",
       "  <thead>\n",
       "    <tr style=\"text-align: right;\">\n",
       "      <th></th>\n",
       "      <th>term</th>\n",
       "      <th>field_name</th>\n",
       "      <th>field_description</th>\n",
       "    </tr>\n",
       "  </thead>\n",
       "  <tbody>\n",
       "    <tr>\n",
       "      <th>0</th>\n",
       "      <td>path:r-hsa-168298</td>\n",
       "      <td>SDDSRVYR</td>\n",
       "      <td>data release cycle</td>\n",
       "    </tr>\n",
       "    <tr>\n",
       "      <th>1</th>\n",
       "      <td>gene:40162</td>\n",
       "      <td>SDDSRVYR</td>\n",
       "      <td>data release cycle</td>\n",
       "    </tr>\n",
       "    <tr>\n",
       "      <th>8</th>\n",
       "      <td>gene:31251</td>\n",
       "      <td>RIDEXMON</td>\n",
       "      <td>six month time period</td>\n",
       "    </tr>\n",
       "    <tr>\n",
       "      <th>32</th>\n",
       "      <td>meta:hmdb0302501</td>\n",
       "      <td>DMDHHSZA</td>\n",
       "      <td># of children 5 years or younger in hh</td>\n",
       "    </tr>\n",
       "    <tr>\n",
       "      <th>44</th>\n",
       "      <td>error</td>\n",
       "      <td>INDHHIN2</td>\n",
       "      <td>annual household income</td>\n",
       "    </tr>\n",
       "    <tr>\n",
       "      <th>...</th>\n",
       "      <td>...</td>\n",
       "      <td>...</td>\n",
       "      <td>...</td>\n",
       "    </tr>\n",
       "    <tr>\n",
       "      <th>15931</th>\n",
       "      <td>meta:hmdb0002878</td>\n",
       "      <td>LBXWNO</td>\n",
       "      <td>nitrate, water (ng/ml)</td>\n",
       "    </tr>\n",
       "    <tr>\n",
       "      <th>15932</th>\n",
       "      <td>meta:hmdb0012238</td>\n",
       "      <td>LBDWIOLC</td>\n",
       "      <td>iodide, water comment code</td>\n",
       "    </tr>\n",
       "    <tr>\n",
       "      <th>15933</th>\n",
       "      <td>meta:hmdb0002111</td>\n",
       "      <td>LBDWIOLC</td>\n",
       "      <td>iodide, water comment code</td>\n",
       "    </tr>\n",
       "    <tr>\n",
       "      <th>15934</th>\n",
       "      <td>meta:hmdb0002111</td>\n",
       "      <td>LBXWP8</td>\n",
       "      <td>perchlorate, water (ng/ml)</td>\n",
       "    </tr>\n",
       "    <tr>\n",
       "      <th>15935</th>\n",
       "      <td>chem:c494474</td>\n",
       "      <td>LBXWP8</td>\n",
       "      <td>perchlorate, water (ng/ml)</td>\n",
       "    </tr>\n",
       "  </tbody>\n",
       "</table>\n",
       "<p>5651 rows × 3 columns</p>\n",
       "</div>"
      ],
      "text/plain": [
       "                    term field_name                       field_description\n",
       "0      path:r-hsa-168298   SDDSRVYR                      data release cycle\n",
       "1             gene:40162   SDDSRVYR                      data release cycle\n",
       "8             gene:31251   RIDEXMON                   six month time period\n",
       "32      meta:hmdb0302501   DMDHHSZA  # of children 5 years or younger in hh\n",
       "44                 error   INDHHIN2                 annual household income\n",
       "...                  ...        ...                                     ...\n",
       "15931   meta:hmdb0002878     LBXWNO                  nitrate, water (ng/ml)\n",
       "15932   meta:hmdb0012238   LBDWIOLC              iodide, water comment code\n",
       "15933   meta:hmdb0002111   LBDWIOLC              iodide, water comment code\n",
       "15934   meta:hmdb0002111     LBXWP8              perchlorate, water (ng/ml)\n",
       "15935       chem:c494474     LBXWP8              perchlorate, water (ng/ml)\n",
       "\n",
       "[5651 rows x 3 columns]"
      ]
     },
     "execution_count": 22,
     "metadata": {},
     "output_type": "execute_result"
    }
   ],
   "source": [
    "df_NHANES_fields_terms"
   ]
  },
  {
   "cell_type": "code",
   "execution_count": 34,
   "metadata": {},
   "outputs": [
    {
     "data": {
      "text/html": [
       "<div>\n",
       "<style scoped>\n",
       "    .dataframe tbody tr th:only-of-type {\n",
       "        vertical-align: middle;\n",
       "    }\n",
       "\n",
       "    .dataframe tbody tr th {\n",
       "        vertical-align: top;\n",
       "    }\n",
       "\n",
       "    .dataframe thead th {\n",
       "        text-align: right;\n",
       "    }\n",
       "</style>\n",
       "<table border=\"1\" class=\"dataframe\">\n",
       "  <thead>\n",
       "    <tr style=\"text-align: right;\">\n",
       "      <th></th>\n",
       "      <th>term_1</th>\n",
       "      <th>term_2</th>\n",
       "    </tr>\n",
       "  </thead>\n",
       "  <tbody>\n",
       "    <tr>\n",
       "      <th>1073</th>\n",
       "      <td>chem:c000619812</td>\n",
       "      <td>dise:d006973</td>\n",
       "    </tr>\n",
       "    <tr>\n",
       "      <th>1080</th>\n",
       "      <td>chem:c000619812</td>\n",
       "      <td>dise:d007249</td>\n",
       "    </tr>\n",
       "    <tr>\n",
       "      <th>1098</th>\n",
       "      <td>chem:c000619812</td>\n",
       "      <td>dise:d008545</td>\n",
       "    </tr>\n",
       "    <tr>\n",
       "      <th>1140</th>\n",
       "      <td>chem:c000619812</td>\n",
       "      <td>dise:d015431</td>\n",
       "    </tr>\n",
       "    <tr>\n",
       "      <th>4785</th>\n",
       "      <td>chem:c010210</td>\n",
       "      <td>dise:d006973</td>\n",
       "    </tr>\n",
       "    <tr>\n",
       "      <th>...</th>\n",
       "      <td>...</td>\n",
       "      <td>...</td>\n",
       "    </tr>\n",
       "    <tr>\n",
       "      <th>317726</th>\n",
       "      <td>meta:hmdb0015532</td>\n",
       "      <td>meta:hmdb0302501</td>\n",
       "    </tr>\n",
       "    <tr>\n",
       "      <th>318671</th>\n",
       "      <td>meta:hmdb0000464</td>\n",
       "      <td>path:hsa05133</td>\n",
       "    </tr>\n",
       "    <tr>\n",
       "      <th>318677</th>\n",
       "      <td>meta:hmdb0000547</td>\n",
       "      <td>path:hsa05133</td>\n",
       "    </tr>\n",
       "    <tr>\n",
       "      <th>318679</th>\n",
       "      <td>meta:hmdb0000586</td>\n",
       "      <td>path:hsa05133</td>\n",
       "    </tr>\n",
       "    <tr>\n",
       "      <th>318696</th>\n",
       "      <td>meta:hmdb0302501</td>\n",
       "      <td>path:hsa05133</td>\n",
       "    </tr>\n",
       "  </tbody>\n",
       "</table>\n",
       "<p>2773 rows × 2 columns</p>\n",
       "</div>"
      ],
      "text/plain": [
       "                  term_1            term_2\n",
       "1073     chem:c000619812      dise:d006973\n",
       "1080     chem:c000619812      dise:d007249\n",
       "1098     chem:c000619812      dise:d008545\n",
       "1140     chem:c000619812      dise:d015431\n",
       "4785        chem:c010210      dise:d006973\n",
       "...                  ...               ...\n",
       "317726  meta:hmdb0015532  meta:hmdb0302501\n",
       "318671  meta:hmdb0000464     path:hsa05133\n",
       "318677  meta:hmdb0000547     path:hsa05133\n",
       "318679  meta:hmdb0000586     path:hsa05133\n",
       "318696  meta:hmdb0302501     path:hsa05133\n",
       "\n",
       "[2773 rows x 2 columns]"
      ]
     },
     "execution_count": 34,
     "metadata": {},
     "output_type": "execute_result"
    }
   ],
   "source": [
    "df_interactions= df_terms_filtered.drop(columns=['term_group_1', 'term_category_1', 'word_1',  'description_1', 'term_group_2', 'term_category_2', 'word_2', 'description_2'])\n",
    "df_interactions"
   ]
  },
  {
   "cell_type": "code",
   "execution_count": 35,
   "metadata": {},
   "outputs": [],
   "source": [
    "# Criando o novo DataFrame\n",
    "new_rows = []\n",
    "\n",
    "for _, model_row in df_interactions.iterrows():\n",
    "    term_1 = model_row['term_1']\n",
    "    term_2 = model_row['term_2']\n",
    "    \n",
    "    # Procurando correspondências para term_1\n",
    "    term_1_matches = df_NHANES_fields_terms[df_NHANES_fields_terms['term'] == term_1]\n",
    "    \n",
    "    # Procurando correspondências para term_2\n",
    "    term_2_matches = df_NHANES_fields_terms[df_NHANES_fields_terms['term'] == term_2]\n",
    "    \n",
    "    for _, term_1_row in term_1_matches.iterrows():\n",
    "        for _, term_2_row in term_2_matches.iterrows():\n",
    "            new_row = {\n",
    "                'term_1': term_1,\n",
    "                'field_name_1': term_1_row['field_name'],\n",
    "                'field_description_1': term_1_row['field_description'],\n",
    "                'term_2': term_2,\n",
    "                'field_name_2': term_2_row['field_name'],\n",
    "                'field_description_2': term_2_row['field_description']\n",
    "            }\n",
    "            new_rows.append(new_row)\n",
    "\n",
    "df_models = pd.DataFrame(new_rows)"
   ]
  },
  {
   "cell_type": "code",
   "execution_count": 37,
   "metadata": {},
   "outputs": [],
   "source": [
    "df_models.to_csv(\n",
    "    str(path_data) + \"/step_01_05_Models.csv\",\n",
    "    index=False\n",
    "    )"
   ]
  },
  {
   "cell_type": "code",
   "execution_count": 39,
   "metadata": {},
   "outputs": [
    {
     "data": {
      "text/plain": [
       "Index(['term_1', 'field_name_1', 'field_description_1', 'term_2',\n",
       "       'field_name_2', 'field_description_2'],\n",
       "      dtype='object')"
      ]
     },
     "execution_count": 39,
     "metadata": {},
     "output_type": "execute_result"
    }
   ],
   "source": [
    "df_models.columns\n"
   ]
  },
  {
   "cell_type": "markdown",
   "metadata": {},
   "source": []
  },
  {
   "cell_type": "markdown",
   "metadata": {},
   "source": [
    "Fase 01_06 - Isolar os fields Unicos "
   ]
  },
  {
   "cell_type": "code",
   "execution_count": 51,
   "metadata": {},
   "outputs": [],
   "source": [
    "df_fields_1 = df_models.drop(columns=['term_1', 'term_2', 'field_name_2', 'field_description_2'])\n",
    "df_fields_2 = df_models.drop(columns=['term_1', 'term_2', 'field_name_1', 'field_description_1'])\n",
    "df_fields_1.rename(columns={'field_name_1': 'field_name', 'field_description_1': 'field_description'}, inplace=True)\n",
    "df_fields_2.rename(columns={'field_name_2': 'field_name', 'field_description_2': 'field_description'}, inplace=True)\n",
    "df_fields = pd.concat([df_fields_1, df_fields_2], ignore_index=True)\n",
    "df_fields.drop_duplicates(inplace=True)\n",
    "df_fields.to_csv(\n",
    "    str(path_data) + \"/step_01_06_Fields.csv\",\n",
    "    index=False\n",
    "    )"
   ]
  },
  {
   "cell_type": "markdown",
   "metadata": {},
   "source": [
    "Step_02: Merge all fields from MYNHANES"
   ]
  },
  {
   "cell_type": "code",
   "execution_count": 19,
   "metadata": {},
   "outputs": [
    {
     "data": {
      "text/plain": [
       "['/Users/andrerico/Works/Projects/pbs_igem/data/Fields_by_Cycle/IGEM_ExE_2007-2008.csv',\n",
       " '/Users/andrerico/Works/Projects/pbs_igem/data/Fields_by_Cycle/IGEM_ExE_2009-2010.csv',\n",
       " '/Users/andrerico/Works/Projects/pbs_igem/data/Fields_by_Cycle/IGEM_ExE_2015-2016.csv',\n",
       " '/Users/andrerico/Works/Projects/pbs_igem/data/Fields_by_Cycle/IGEM_ExE_2003-2004.csv',\n",
       " '/Users/andrerico/Works/Projects/pbs_igem/data/Fields_by_Cycle/IGEM_ExE_2005-2006.csv',\n",
       " '/Users/andrerico/Works/Projects/pbs_igem/data/Fields_by_Cycle/IGEM_ExE_2013-2014.csv',\n",
       " '/Users/andrerico/Works/Projects/pbs_igem/data/Fields_by_Cycle/IGEM_ExE_1999-2000.csv',\n",
       " '/Users/andrerico/Works/Projects/pbs_igem/data/Fields_by_Cycle/IGEM_ExE_2017-2018.csv',\n",
       " '/Users/andrerico/Works/Projects/pbs_igem/data/Fields_by_Cycle/IGEM_ExE_2001-2002.csv',\n",
       " '/Users/andrerico/Works/Projects/pbs_igem/data/Fields_by_Cycle/IGEM_ExE_2011-2012.csv']"
      ]
     },
     "execution_count": 19,
     "metadata": {},
     "output_type": "execute_result"
    }
   ],
   "source": [
    "folder_path = path_data / \"Fields_by_Cycle\"\n",
    "csv_files = glob.glob(os.path.join(str(folder_path), \"*.csv\"))"
   ]
  },
  {
   "cell_type": "code",
   "execution_count": 20,
   "metadata": {},
   "outputs": [],
   "source": [
    "folder_path = path_data / \"Fields_by_Cycle\"\n",
    "csv_files = glob.glob(os.path.join(str(folder_path), \"*.csv\"))\n",
    "\n",
    "dataframes = []\n",
    "\n",
    "for file in csv_files:\n",
    "    df = pd.read_csv(file)\n",
    "    dataframes.append(df)\n",
    "\n",
    "combined_df = pd.concat(dataframes, ignore_index=True)\n",
    "\n",
    "combined_df.to_csv(\"combined_file.csv\", index=False)"
   ]
  },
  {
   "cell_type": "code",
   "execution_count": 22,
   "metadata": {},
   "outputs": [],
   "source": [
    "combined_df.to_csv(\n",
    "    str(path_data) + \"/step_02_00_all_data.csv\",\n",
    "    index=False\n",
    "    )"
   ]
  }
 ],
 "metadata": {
  "kernelspec": {
   "display_name": ".venv",
   "language": "python",
   "name": "python3"
  },
  "language_info": {
   "codemirror_mode": {
    "name": "ipython",
    "version": 3
   },
   "file_extension": ".py",
   "mimetype": "text/x-python",
   "name": "python",
   "nbconvert_exporter": "python",
   "pygments_lexer": "ipython3",
   "version": "3.10.3"
  }
 },
 "nbformat": 4,
 "nbformat_minor": 2
}
