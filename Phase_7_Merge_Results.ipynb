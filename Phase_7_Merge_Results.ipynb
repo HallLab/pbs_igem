{
 "cells": [
  {
   "cell_type": "code",
   "execution_count": 1,
   "metadata": {},
   "outputs": [],
   "source": [
    "import pandas as pd\n",
    "from pathlib import Path\n",
    "import os"
   ]
  },
  {
   "cell_type": "code",
   "execution_count": 2,
   "metadata": {},
   "outputs": [],
   "source": [
    "# define the path to the data folder\n",
    "path = Path().resolve()\n",
    "path_data = path"
   ]
  },
  {
   "cell_type": "code",
   "execution_count": 18,
   "metadata": {},
   "outputs": [],
   "source": [
    "def combine_csv_files(file_list, output_file):\n",
    "    # Read NHANES Description IDs\n",
    "    df_description = pd.read_csv(str(path_data) + '/Data/step_02_07_Fields.csv')\n",
    "    # field_name,field_description\n",
    "    # LBDHDL,HDL-cholesterol (mg/dL)\n",
    "\n",
    "    # Lista para armazenar os DataFrames\n",
    "    data_frames = []\n",
    "    \n",
    "    # Itera sobre cada arquivo na lista\n",
    "    for file in file_list:\n",
    "        # Verifica se o arquivo existe\n",
    "        file = str(path_data) + file\n",
    "        print(file)\n",
    "        if os.path.exists(file):\n",
    "            # Lê o arquivo CSV e adiciona o DataFrame à lista\n",
    "            df = pd.read_csv(file)\n",
    "            data_frames.append(df)\n",
    "        else:\n",
    "            print(f\"File {file} not found.\")\n",
    "    \n",
    "    # Concatena todos os DataFrames em um único DataFrame\n",
    "    combined_df = pd.concat(data_frames, ignore_index=True)\n",
    "\n",
    "    print(combined_df)\n",
    "\n",
    "    # Adiciona as descrições para Term1 e Term2\n",
    "    combined_df = combined_df.merge(df_description, left_on='Term1', right_on='field_name', how='left')\n",
    "    combined_df = combined_df.rename(columns={'field_description': 'Term1_description'})\n",
    "    combined_df = combined_df.drop(columns=['field_name'])\n",
    "\n",
    "    combined_df = combined_df.merge(df_description, left_on='Term2', right_on='field_name', how='left')\n",
    "    combined_df = combined_df.rename(columns={'field_description': 'Term2_description'})\n",
    "    combined_df = combined_df.drop(columns=['field_name'])\n",
    "\n",
    "    # Reordena as colunas\n",
    "    column_order = ['Unnamed: 0',  'Outcome', 'Term1', 'Term1_description', 'Term2', 'Term2_description', 'Converged', 'pvalue', 'Bonfp', 'pvalue_bonferroni', 'pvalue_fdr']\n",
    "    combined_df = combined_df[column_order]\n",
    "\n",
    "    # Salva o DataFrame combinado em um único arquivo CSV\n",
    "    \n",
    "    # Salva o DataFrame combinado em um único arquivo CSV\n",
    "    combined_df.to_csv(str(path_data) + output_file, index=False)\n",
    "    print(f\"Combined CSV saved to {output_file}\")"
   ]
  },
  {
   "cell_type": "code",
   "execution_count": 13,
   "metadata": {},
   "outputs": [],
   "source": [
    "# Lista de arquivos CSV para combinar\n",
    "file_list_replicte = [\n",
    "    '/Data/step_06_00/Result_LBDHDD_replicate.csv',\n",
    "    '/Data/step_06_00/Result_LBDHDL_replicate.csv',\n",
    "    '/Data/step_06_00/Result_LBDLDL_N_replicate.csv',\n",
    "    '/Data/step_06_00/Result_LBXHDD_replicate.csv',\n",
    "    '/Data/step_06_00/Result_LBXSTR_replicate.csv',\n",
    "    '/Data/step_06_00/Result_LBXTC_N_replicate.csv',\n",
    "]"
   ]
  },
  {
   "cell_type": "code",
   "execution_count": 19,
   "metadata": {},
   "outputs": [
    {
     "name": "stdout",
     "output_type": "stream",
     "text": [
      "/Users/andrerico/Works/Projects/pbs_igem/Data/step_06_00/Result_LBDHDD_replicate.csv\n",
      "/Users/andrerico/Works/Projects/pbs_igem/Data/step_06_00/Result_LBDHDL_replicate.csv\n",
      "/Users/andrerico/Works/Projects/pbs_igem/Data/step_06_00/Result_LBDLDL_N_replicate.csv\n",
      "/Users/andrerico/Works/Projects/pbs_igem/Data/step_06_00/Result_LBXHDD_replicate.csv\n",
      "/Users/andrerico/Works/Projects/pbs_igem/Data/step_06_00/Result_LBXSTR_replicate.csv\n",
      "/Users/andrerico/Works/Projects/pbs_igem/Data/step_06_00/Result_LBXTC_N_replicate.csv\n",
      "     Unnamed: 0  Outcome     Term1     Term2 Converged        pvalue  \\\n",
      "0             4   LBDHDD    LBX2DF    LBXVBZ      True  3.179227e-14   \n",
      "1            23   LBDHDD    LBXVBZ    LBXVFN      True  9.627123e-11   \n",
      "2            22   LBDHDD    LBXVFN    LBXVBZ      True  9.627123e-11   \n",
      "3             3   LBDHDD    LBXLNA    LBXAR1      True  1.965819e-10   \n",
      "4            90   LBDHDD    LBXAR1    LBXPL1      True  2.185864e-10   \n",
      "..          ...      ...       ...       ...       ...           ...   \n",
      "450          44  LBXTC_N  LBDVCMLC    SMD430      True  6.089437e-01   \n",
      "451          35  LBXTC_N    LBXVBZ    CBD620      True  7.022353e-01   \n",
      "452          41  LBXTC_N    CBD620    LBXVBZ      True  7.022353e-01   \n",
      "453          27  LBXTC_N    URXUIO  URDUABLC      True  7.500009e-01   \n",
      "454          37  LBXTC_N    LBXVCF    SMD030      True  8.079158e-01   \n",
      "\n",
      "            Bonfp  pvalue_bonferroni    pvalue_fdr  \n",
      "0    5.086763e-10       6.580999e-12  6.580999e-12  \n",
      "1    1.540340e-06       1.992815e-08  6.642715e-09  \n",
      "2    1.540340e-06       1.992815e-08  6.642715e-09  \n",
      "3    3.145310e-06       4.069245e-08  9.049475e-09  \n",
      "4    3.497382e-06       4.524738e-08  9.049475e-09  \n",
      "..            ...                ...           ...  \n",
      "450  1.645548e+04       1.000000e+00  7.269609e-01  \n",
      "451  1.897651e+04       1.000000e+00  7.348974e-01  \n",
      "452  1.897651e+04       1.000000e+00  7.348974e-01  \n",
      "453  2.026727e+04       1.000000e+00  7.670464e-01  \n",
      "454  2.183231e+04       1.000000e+00  8.079158e-01  \n",
      "\n",
      "[455 rows x 9 columns]\n",
      "Combined CSV saved to /Data/step_06_00/ALL_Results_Replicate.csv\n"
     ]
    }
   ],
   "source": [
    "# Nome do arquivo CSV de saída\n",
    "output_file = '/Data/step_06_00/ALL_Results_Replicate.csv'\n",
    "\n",
    "# Chama a função para combinar os arquivos CSV\n",
    "combine_csv_files(file_list_replicte, output_file)"
   ]
  }
 ],
 "metadata": {
  "kernelspec": {
   "display_name": ".venv",
   "language": "python",
   "name": "python3"
  },
  "language_info": {
   "codemirror_mode": {
    "name": "ipython",
    "version": 3
   },
   "file_extension": ".py",
   "mimetype": "text/x-python",
   "name": "python",
   "nbconvert_exporter": "python",
   "pygments_lexer": "ipython3",
   "version": "3.10.3"
  }
 },
 "nbformat": 4,
 "nbformat_minor": 2
}
